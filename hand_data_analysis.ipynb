{
 "cells": [
  {
   "cell_type": "code",
   "execution_count": 6,
   "id": "1b3d2a53",
   "metadata": {},
   "outputs": [
    {
     "name": "stdout",
     "output_type": "stream",
     "text": [
      "     kind       4_x       4_y       8_x       8_y      12_x      12_y  \\\n",
      "0   paper -0.059725  0.026516 -0.022054 -0.049319 -0.002339 -0.066386   \n",
      "1   paper -0.071952  0.024774 -0.021216 -0.052672 -0.003046 -0.061615   \n",
      "2   paper -0.072084  0.021889 -0.020865 -0.054986 -0.004456 -0.061586   \n",
      "3   paper -0.074749  0.016295 -0.017860 -0.056103  0.003916 -0.061267   \n",
      "4   paper -0.078536  0.013819 -0.017810 -0.056148  0.004477 -0.061605   \n",
      "..    ...       ...       ...       ...       ...       ...       ...   \n",
      "79  paper  0.094144 -0.014934  0.010100 -0.062989 -0.008565 -0.070368   \n",
      "80  paper  0.093986 -0.013777  0.010050 -0.062977 -0.008942 -0.072759   \n",
      "81  paper  0.092287 -0.011531  0.008839 -0.064639 -0.009347 -0.075755   \n",
      "82  paper  0.094227 -0.011060  0.009105 -0.064424 -0.009036 -0.075081   \n",
      "83  paper -0.066762  0.003477 -0.025630 -0.061028 -0.019202 -0.053544   \n",
      "\n",
      "        16_x      16_y      20_x      20_y  \n",
      "0   0.018352 -0.061513  0.036839 -0.039306  \n",
      "1   0.014175 -0.056903  0.030907 -0.034375  \n",
      "2   0.012831 -0.054781  0.029245 -0.033779  \n",
      "3   0.020841 -0.053902  0.030213 -0.032635  \n",
      "4   0.019261 -0.052916  0.028251 -0.032243  \n",
      "..       ...       ...       ...       ...  \n",
      "79 -0.028699 -0.055692 -0.046428 -0.037097  \n",
      "80 -0.029403 -0.057420 -0.047658 -0.038578  \n",
      "81 -0.029831 -0.061638 -0.046992 -0.044290  \n",
      "82 -0.028692 -0.061160 -0.046798 -0.045485  \n",
      "83 -0.015083 -0.041486 -0.009645 -0.023959  \n",
      "\n",
      "[84 rows x 11 columns]\n"
     ]
    }
   ],
   "source": [
    "import pandas as pd\n",
    "\n",
    "paper_data = pd.read_csv('./paper_data.csv')\n",
    "\n",
    "print(paper_data)"
   ]
  },
  {
   "cell_type": "code",
   "execution_count": 16,
   "id": "19404ecf",
   "metadata": {},
   "outputs": [
    {
     "name": "stdout",
     "output_type": "stream",
     "text": [
      "count    84.000000\n",
      "mean      0.004620\n",
      "std       0.071511\n",
      "min      -0.086891\n",
      "25%      -0.067221\n",
      "50%      -0.008684\n",
      "75%       0.087364\n",
      "max       0.094227\n",
      "Name: 4_x, dtype: float64\n"
     ]
    }
   ],
   "source": [
    "pdf = pd.DataFrame(paper_data)\n",
    "describe_4_x = pdf['4_x'].describe()\n",
    "print(describe_4_x)"
   ]
  }
 ],
 "metadata": {
  "kernelspec": {
   "display_name": "Python 3 (ipykernel)",
   "language": "python",
   "name": "python3"
  },
  "language_info": {
   "codemirror_mode": {
    "name": "ipython",
    "version": 3
   },
   "file_extension": ".py",
   "mimetype": "text/x-python",
   "name": "python",
   "nbconvert_exporter": "python",
   "pygments_lexer": "ipython3",
   "version": "3.9.12"
  }
 },
 "nbformat": 4,
 "nbformat_minor": 5
}
