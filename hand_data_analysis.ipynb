{
 "cells": [
  {
   "cell_type": "code",
   "execution_count": 1,
   "id": "1b3d2a53",
   "metadata": {},
   "outputs": [
    {
     "name": "stdout",
     "output_type": "stream",
     "text": [
      "         lm.x      lm.y\n",
      "0   -0.038713 -0.028148\n",
      "1   -0.039359 -0.028423\n",
      "2   -0.039154 -0.028321\n",
      "3   -0.039110 -0.029004\n",
      "4   -0.039119 -0.028224\n",
      "..        ...       ...\n",
      "96  -0.038823 -0.028362\n",
      "97  -0.038700 -0.028521\n",
      "98  -0.039086 -0.028622\n",
      "99  -0.038874 -0.028474\n",
      "100 -0.039169 -0.028134\n",
      "\n",
      "[101 rows x 2 columns]\n"
     ]
    }
   ],
   "source": [
    "import pandas as pd\n",
    "\n",
    "paper_data = pd.read_csv('./sum_paper.csv')\n",
    "\n",
    "print(paper_data)"
   ]
  },
  {
   "cell_type": "code",
   "execution_count": 3,
   "id": "19404ecf",
   "metadata": {},
   "outputs": [
    {
     "name": "stdout",
     "output_type": "stream",
     "text": [
      "             lm.x        lm.y\n",
      "count  101.000000  101.000000\n",
      "mean    -0.039084   -0.028482\n",
      "std      0.000276    0.000288\n",
      "min     -0.039558   -0.029035\n",
      "25%     -0.039327   -0.028713\n",
      "50%     -0.039092   -0.028421\n",
      "75%     -0.038843   -0.028249\n",
      "max     -0.038566   -0.028056\n"
     ]
    }
   ],
   "source": [
    "pdf = pd.DataFrame(paper_data)\n",
    "describe_4_x = pdf.describe()\n",
    "print(describe_4_x)"
   ]
  }
 ],
 "metadata": {
  "kernelspec": {
   "display_name": "Python 3 (ipykernel)",
   "language": "python",
   "name": "python3"
  },
  "language_info": {
   "codemirror_mode": {
    "name": "ipython",
    "version": 3
   },
   "file_extension": ".py",
   "mimetype": "text/x-python",
   "name": "python",
   "nbconvert_exporter": "python",
   "pygments_lexer": "ipython3",
   "version": "3.9.12"
  }
 },
 "nbformat": 4,
 "nbformat_minor": 5
}
